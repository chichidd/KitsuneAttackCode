{
 "cells": [
  {
   "cell_type": "code",
   "execution_count": null,
   "metadata": {},
   "outputs": [],
   "source": [
    "import torch\n",
    "import torch.nn as nn\n",
    "import torch.nn.functional as F\n",
    "from PytorchAD import AnomalyDetector\n",
    "from utils import get_feature_map, load_data\n",
    "from sklearn.metrics import accuracy_score\n",
    "import numpy as np\n",
    "import matplotlib.pyplot as plt\n",
    "import pickle\n",
    "import matplotlib"
   ]
  },
  {
   "cell_type": "markdown",
   "metadata": {},
   "source": [
    "# Prepare data"
   ]
  },
  {
   "cell_type": "code",
   "execution_count": null,
   "metadata": {
    "scrolled": true
   },
   "outputs": [],
   "source": [
    "# Load data\n",
    "videoinj = load_data(\"data/videoinj_vector.pkl\")\n",
    "labels = load_data(\"data/labels.pkl\")\n",
    "\n",
    "# KitNET params\n",
    "maxAE = 10 #maximum size for any autoencoder in the ensemble layer\n",
    "FMgrace = 100000 #the number of instances taken to learn the feature mapping (the ensemble's architecture)\n",
    "ADgrace = 1000000 #the number of instances used to train the anomaly detector (ensemble itself)\n",
    "\n",
    "v = get_feature_map(videoinj.numpy(), FMgrace, maxAE)\n",
    "\n",
    "AD = AnomalyDetector(v, device=\"cpu\")\n",
    "AD = torch.load(\"model/AD_model.pt\")\n",
    "AD.eval()"
   ]
  },
  {
   "cell_type": "markdown",
   "metadata": {},
   "source": [
    "# Select threshold"
   ]
  },
  {
   "cell_type": "code",
   "execution_count": null,
   "metadata": {},
   "outputs": [],
   "source": [
    "print(\"Number of instances: \", len(videoinj))\n",
    "error_pred = AD(torch.tensor(videoinj[FMgrace+ADgrace+1:])).detach().numpy()\n",
    "print(\"Maximum of test error: \", error_pred.max())\n",
    "\n",
    "#th_list = [0.0, 0.01, 0.03, 0.06,0.064,0.07,0.09,0.1,0.25, 0.3]\n",
    "th_list = [0.0, 0.01, 0.03,0.04,0.05, 0.06,0.07,0.09,0.1,0.25, 0.3]\n",
    "rates_of_false_positive = []\n",
    "rates_of_false_negative = []\n",
    "accuracy_list = []\n",
    "benign_samples = np.where(labels[FMgrace+ADgrace+1:] == 0)[0]\n",
    "mal_samples = np.where(labels[FMgrace+ADgrace+1:] == 1)[0]\n",
    "for th in th_list:\n",
    "    pred = (error_pred>th).astype(np.long)\n",
    "    accuracy_list.append(accuracy_score(pred, labels[FMgrace+ADgrace+1:])*100)\n",
    "    rates_of_false_positive.append(len(np.where(pred[benign_samples]==1)[0])/len(benign_samples)*100)\n",
    "    rates_of_false_negative.append(len(np.where(pred[mal_samples]==0)[0])/len(mal_samples)*100)"
   ]
  },
  {
   "cell_type": "code",
   "execution_count": null,
   "metadata": {},
   "outputs": [],
   "source": [
    "# generate axis label\n",
    "th_str = []\n",
    "for th in th_list:\n",
    "    th_str.append(str(th))\n",
    "\n",
    "font_size = 18\n",
    "font = {'size':font_size}\n",
    "matplotlib.rc('font', **font)\n",
    "fig = plt.figure(figsize = (10, 6))\n",
    "ax = fig.add_subplot()\n",
    "ax.plot(range(len(th_list)), rates_of_false_positive, color='r', label=\"False positive\")\n",
    "ax.plot(range(len(th_list)), rates_of_false_negative, color='b', label=\"False negative\")\n",
    "ax.plot(range(len(th_list)), accuracy_list, color='g', label=\"Accuracy\")\n",
    "ax.set_xlabel(\"Threshold\", fontsize=font_size)\n",
    "ax.set_ylabel(\"Rate (%)\", fontsize=font_size)\n",
    "ax.set_xticks(range(len(th_list)))\n",
    "ax.set_xticklabels(labels = th_list, fontsize=font_size)\n",
    "ax.legend(prop={'size': font_size})\n",
    "ax.grid(True)\n",
    "#plt.savefig(\"result/threshold_select.png\", dpi=1000)\n",
    "plt.savefig(\"result/videoinj_threshold_select.pdf\")\n",
    "\n",
    "plt.show()\n"
   ]
  },
  {
   "cell_type": "markdown",
   "metadata": {},
   "source": [
    "## Plot RMSEs with packet loss"
   ]
  },
  {
   "cell_type": "code",
   "execution_count": null,
   "metadata": {},
   "outputs": [],
   "source": [
    "# plot range\n",
    "\n",
    "mal_idx = np.where(labels==1)[0]\n",
    "benign_idx = np.where(labels==0)[0]\n",
    "\n",
    "start_idx =1200000\n",
    "end_idx = 2400000\n",
    "mal_idx = mal_idx[np.where(mal_idx>=start_idx)[0]]\n",
    "mal_idx = mal_idx[np.where(mal_idx<=end_idx)[0]]\n",
    "benign_idx = benign_idx[np.where(benign_idx>=start_idx)[0]]\n",
    "benign_idx = benign_idx[np.where(benign_idx<=end_idx)[0]]"
   ]
  },
  {
   "cell_type": "code",
   "execution_count": null,
   "metadata": {},
   "outputs": [],
   "source": [
    "packet_drop_proba = [0.1, 0.3, 0.5, 0.7]\n",
    "plt.figure(figsize=(48,36))\n",
    "font = {'size':60}\n",
    "matplotlib.rc('font', **font)\n",
    "for i, p in enumerate(packet_drop_proba):\n",
    "    \n",
    "    RMSEs = pickle.load(open(\"Kitsune/RMSEs_modify_allip_{}.pkl\".format(p), \"rb\"))\n",
    "    RMSEs = np.array(RMSEs)\n",
    "    plt.subplot(221+i)\n",
    "    fig = plt.scatter(benign_idx/1000000,RMSEs[benign_idx],s=18,c='b',label=\"Benign\")\n",
    "    fig = plt.scatter(mal_idx/1000000,RMSEs[mal_idx],s=18, c='r', label=\"Malicious\")\n",
    "    plt.yscale(\"log\")\n",
    "    plt.axhline(y=0.04, linewidth=5)\n",
    "    plt.axvline(x=1.5, linewidth=5)\n",
    "    plt.axvline(x=1.8, linewidth=5)\n",
    "    plt.ylabel(\"RMSE (log scaled)\")\n",
    "    plt.xlabel(r\"Packet number (million)\")\n",
    "    plt.ylim(0,1)\n",
    "    plt.title(\"p = {}\".format(p))\n",
    "    \n",
    "    # jia cu bian kuang\n",
    "    ax = plt.gca()\n",
    "    ax.spines['bottom'].set_linewidth(2)\n",
    "    ax.spines['left'].set_linewidth(2)\n",
    "    ax.spines['right'].set_linewidth(2)\n",
    "    ax.spines['top'].set_linewidth(2)\n",
    "    plt.legend()\n",
    "#plt.savefig(\"comparison_p.png\", dpi=100)\n",
    "plt.savefig(\"packet_drop_compare.png\", bbox_inche='tight', dpi=100)\n"
   ]
  },
  {
   "cell_type": "code",
   "execution_count": null,
   "metadata": {},
   "outputs": [],
   "source": []
  }
 ],
 "metadata": {
  "kernelspec": {
   "display_name": "Python 3",
   "language": "python",
   "name": "python3"
  },
  "language_info": {
   "codemirror_mode": {
    "name": "ipython",
    "version": 3
   },
   "file_extension": ".py",
   "mimetype": "text/x-python",
   "name": "python",
   "nbconvert_exporter": "python",
   "pygments_lexer": "ipython3",
   "version": "3.7.4"
  }
 },
 "nbformat": 4,
 "nbformat_minor": 4
}
